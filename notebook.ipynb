{
  "metadata": {
    "kernelspec": {
      "display_name": "Python 3",
      "language": "python",
      "name": "python3"
    },
    "language_info": {
      "codemirror_mode": {
        "name": "ipython",
        "version": 3
      },
      "file_extension": ".py",
      "mimetype": "text/x-python",
      "name": "python",
      "nbconvert_exporter": "python",
      "pygments_lexer": "ipython3",
      "version": "3.6.0"
    }
  },
  "nbformat": 4,
  "nbformat_minor": 0,
  "cells": [
    {
      "cell_type": "markdown",
      "source": "\n**Introduction**\n\nHere is my first Kernel where I try to explore some basic information about Instacart dataset. As said in the description , the Dataset is anonymized and contains a sample of over 3 million grocery orders from more than 200,000 Instacart users. The goal  is then to predict which previously purchased products will be in a user’s next order.\nSo let's start some data exploration !!",
      "metadata": {}
    },
    {
      "cell_type": "code",
      "source": "#import the needed librairies\n\nimport numpy as np # linear algebra\nimport pandas as pd # data processing, CSV file I/O (e.g. pd.read_csv)\n%matplotlib inline\nimport matplotlib.pyplot as plt  # Matlab-style plotting\nimport seaborn as sns\ncolor = sns.color_palette()\nimport warnings\nwarnings.filterwarnings('ignore') #Supress unnecessary warnings for readability and cleaner presentation\n\n\npd.set_option('display.float_format', lambda x: '%.3f' % x) #Limiting floats output to 3 decimal points\n\n\nfrom subprocess import check_output\nprint(check_output([\"ls\", \"../input\"]).decode(\"utf8\")) #check the files available in the directory",
      "execution_count": 1,
      "outputs": [
        {
          "name": "stdout",
          "output_type": "stream",
          "text": "aisles.csv\ndepartments.csv\norder_products__prior.csv\norder_products__train.csv\norders.csv\nproducts.csv\nsample_submission.csv\n\n"
        }
      ],
      "metadata": {}
    },
    {
      "cell_type": "code",
      "source": "#Now let's get and put the data in  pandas dataframe\n\norder_products_train = pd.read_csv('../input/order_products__train.csv')\norder_products_prior = pd.read_csv('../input/order_products__prior.csv')\norders = pd.read_csv('../input/orders.csv')\nproducts = pd.read_csv('../input/products.csv')\naisles = pd.read_csv('../input/aisles.csv')\ndepartments = pd.read_csv('../input/departments.csv')",
      "execution_count": null,
      "outputs": [],
      "metadata": {}
    },
    {
      "cell_type": "markdown",
      "source": "Firstly, let's explore  **order_products_train** and  **order_products_prior** file.   These files specify which products were purchased in each order. In particular, **order_products__prior.csv** contains previous order contents for all customers.",
      "metadata": {}
    },
    {
      "cell_type": "code",
      "source": "print(\"The order_products_train size is : \", order_products_train.shape)\nprint(\"The order_products_prior size is : \", order_products_prior.shape)",
      "execution_count": null,
      "outputs": [],
      "metadata": {}
    },
    {
      "cell_type": "code",
      "source": "#display first five rows.\n\norder_products_train.head(5)",
      "execution_count": null,
      "outputs": [],
      "metadata": {}
    },
    {
      "cell_type": "code",
      "source": "#display first five rows. \n\norder_products_prior.head(5)",
      "execution_count": null,
      "outputs": [],
      "metadata": {}
    },
    {
      "cell_type": "markdown",
      "source": "Now, let's concatenate them in the same order_products dataframe.",
      "metadata": {}
    },
    {
      "cell_type": "code",
      "source": "order_products_all = pd.concat([order_products_train, order_products_prior], axis=0)\n\nprint(\"The order_products_all size is : \", order_products_train.shape)",
      "execution_count": null,
      "outputs": [],
      "metadata": {}
    },
    {
      "cell_type": "code",
      "source": "#display first five rows.\n\norder_products_all.head(5)",
      "execution_count": null,
      "outputs": [],
      "metadata": {}
    },
    {
      "cell_type": "markdown",
      "source": "##Missing Data",
      "metadata": {}
    },
    {
      "cell_type": "code",
      "source": "total = order_products_all.isnull().sum().sort_values(ascending=False)\npercent = (order_products_all.isnull().sum()/order_products_all.isnull().count()).sort_values(ascending=False)\nmissing_data = pd.concat([total, percent], axis=1, keys=['Total Missing', 'Percent'])\nmissing_data",
      "execution_count": null,
      "outputs": [],
      "metadata": {}
    },
    {
      "cell_type": "markdown",
      "source": "There is no missing data in order_products_all dataset. ",
      "metadata": {}
    },
    {
      "cell_type": "code",
      "source": "# Check the number of unique orders and unique products\norders_Unique = len(set(order_products_all.order_id))\nproducts_Unique = len(set(order_products_all.product_id))\nprint(\"There are %s orders for %s products\" %(orders_Unique, products_Unique))",
      "execution_count": null,
      "outputs": [],
      "metadata": {}
    },
    {
      "cell_type": "markdown",
      "source": "**Number of products that people usually order :**",
      "metadata": {}
    },
    {
      "cell_type": "code",
      "source": "grouped = order_products_all.groupby(\"order_id\")[\"add_to_cart_order\"].aggregate(\"max\").reset_index()\ngrouped = grouped.add_to_cart_order.value_counts()\n\nsns.set_style('whitegrid')\nf, ax = plt.subplots(figsize=(15, 12))\nplt.xticks(rotation='vertical')\nsns.barplot(grouped.index, grouped.values)\n\nplt.ylabel('Number of Orders', fontsize=13)\nplt.xlabel('Number of products added in order', fontsize=13)\nplt.show()",
      "execution_count": null,
      "outputs": [],
      "metadata": {}
    },
    {
      "cell_type": "markdown",
      "source": "We can observe that people usually order around 5 products.",
      "metadata": {}
    },
    {
      "cell_type": "markdown",
      "source": "##Most ordered Products",
      "metadata": {}
    },
    {
      "cell_type": "markdown",
      "source": "Now let's identify which products are ordered the most.",
      "metadata": {}
    },
    {
      "cell_type": "code",
      "source": "grouped = order_products_all.groupby(\"product_id\")[\"reordered\"].aggregate({'Total_reorders': 'count'}).reset_index()\ngrouped = pd.merge(grouped, products[['product_id', 'product_name']], how='left', on=['product_id'])\ngrouped = grouped.sort_values(by='Total_reorders', ascending=False)[:10]\ngrouped",
      "execution_count": null,
      "outputs": [],
      "metadata": {}
    },
    {
      "cell_type": "markdown",
      "source": "Fruits like banana , strawberries...are  the most ordered products.",
      "metadata": {}
    },
    {
      "cell_type": "code",
      "source": "grouped  = grouped.groupby(['product_name']).sum()['Total_reorders'].sort_values(ascending=False)\n\nsns.set_style('darkgrid')\nf, ax = plt.subplots(figsize=(12, 10))\nplt.xticks(rotation='vertical')\nsns.barplot(grouped.index, grouped.values)\nplt.ylabel('Number of Reorders', fontsize=13)\nplt.xlabel('Most ordered Products', fontsize=13)\nplt.show()",
      "execution_count": null,
      "outputs": [],
      "metadata": {}
    },
    {
      "cell_type": "markdown",
      "source": "###Reorder Frequency:",
      "metadata": {}
    },
    {
      "cell_type": "markdown",
      "source": "Do people usually reorder the same previous ordered products ?",
      "metadata": {}
    },
    {
      "cell_type": "code",
      "source": "grouped = order_products_all.groupby(\"reordered\")[\"product_id\"].aggregate({'Total_products': 'count'}).reset_index()\ngrouped['Ratios'] = grouped[\"Total_products\"].apply(lambda x: x /grouped['Total_products'].sum())\ngrouped",
      "execution_count": null,
      "outputs": [],
      "metadata": {}
    },
    {
      "cell_type": "markdown",
      "source": "**59 %** of ordered products are previously ordered by customers.",
      "metadata": {}
    },
    {
      "cell_type": "code",
      "source": "grouped  = grouped.groupby(['reordered']).sum()['Total_products'].sort_values(ascending=False)\n\nsns.set_style('whitegrid')\nf, ax = plt.subplots(figsize=(5, 8))\nsns.barplot(grouped.index, grouped.values, palette='RdBu_r')\nplt.ylabel('Number of Products', fontsize=13)\nplt.xlabel('Reordered or Not Reordered', fontsize=13)\nplt.ticklabel_format(style='plain', axis='y')\nplt.show()",
      "execution_count": null,
      "outputs": [],
      "metadata": {}
    },
    {
      "cell_type": "markdown",
      "source": "##Most Reordered Products",
      "metadata": {}
    },
    {
      "cell_type": "markdown",
      "source": "Which products are usually reordered ? ",
      "metadata": {}
    },
    {
      "cell_type": "code",
      "source": "grouped = order_products_all.groupby(\"product_id\")[\"reordered\"].aggregate({'reorder_sum': sum,'reorder_total': 'count'}).reset_index()\ngrouped['reorder_probability'] = grouped['reorder_sum'] / grouped['reorder_total']\ngrouped = pd.merge(grouped, products[['product_id', 'product_name']], how='left', on=['product_id'])\ngrouped = grouped[grouped.reorder_total > 75].sort_values(['reorder_probability'], ascending=False)[:10]\ngrouped",
      "execution_count": null,
      "outputs": [],
      "metadata": {}
    },
    {
      "cell_type": "code",
      "source": "grouped  = grouped.groupby(['product_name']).sum()['reorder_probability'].sort_values(ascending=False)\n\nsns.set_style('darkgrid')\nf, ax = plt.subplots(figsize=(12, 10))\nplt.xticks(rotation='vertical')\nsns.barplot(grouped.index, grouped.values)\nplt.ylim([0.85,0.95])\nplt.ylabel('Reorder probability', fontsize=13)\nplt.xlabel('Most reordered products', fontsize=12)\nplt.show()",
      "execution_count": null,
      "outputs": [],
      "metadata": {}
    },
    {
      "cell_type": "code",
      "source": "",
      "execution_count": null,
      "outputs": [],
      "metadata": {}
    },
    {
      "cell_type": "markdown",
      "source": "Let's explore now the orders.csv file",
      "metadata": {}
    },
    {
      "cell_type": "code",
      "source": "print(\"The orders data size is : \", orders.shape)\nprint(\"Columns in orders data  are : \",  orders.columns.values)",
      "execution_count": null,
      "outputs": [],
      "metadata": {}
    },
    {
      "cell_type": "code",
      "source": "#display first five rows of our dataset.\n\norders.head(5)",
      "execution_count": null,
      "outputs": [],
      "metadata": {}
    },
    {
      "cell_type": "markdown",
      "source": "##Missing Data",
      "metadata": {}
    },
    {
      "cell_type": "code",
      "source": "orders_na = (orders.isnull().sum() / len(orders)) * 100\norders_na = orders_na.drop(orders_na[orders_na == 0].index).sort_values(ascending=False)\norders_na",
      "execution_count": null,
      "outputs": [],
      "metadata": {}
    },
    {
      "cell_type": "markdown",
      "source": "The only feature with missing value is **days_since_prior_order** with **6.028 %** missing",
      "metadata": {}
    },
    {
      "cell_type": "markdown",
      "source": "##Time of orders",
      "metadata": {}
    },
    {
      "cell_type": "markdown",
      "source": "Time at which people usually order products.",
      "metadata": {}
    },
    {
      "cell_type": "markdown",
      "source": "**Hours of Order in a Day:** ",
      "metadata": {}
    },
    {
      "cell_type": "code",
      "source": "grouped = orders.groupby(\"order_id\")[\"order_hour_of_day\"].aggregate(\"sum\").reset_index()\ngrouped = grouped.order_hour_of_day.value_counts()\n\nsns.set_style('darkgrid')\nf, ax = plt.subplots(figsize=(15, 10))\nsns.barplot(grouped.index, grouped.values)\nplt.ylabel('Number of orders', fontsize=13)\nplt.xlabel('Hours of order in a day', fontsize=13)\nplt.show()",
      "execution_count": null,
      "outputs": [],
      "metadata": {}
    },
    {
      "cell_type": "markdown",
      "source": "People mostly order between  8  and 19 (anonimyzed hours and probably between 8 a.m and 7 p.m.)",
      "metadata": {}
    },
    {
      "cell_type": "markdown",
      "source": " **Days of Orders in a week:**",
      "metadata": {}
    },
    {
      "cell_type": "code",
      "source": "grouped = orders.groupby(\"order_id\")[\"order_dow\"].aggregate(\"sum\").reset_index()\ngrouped = grouped.order_dow.value_counts()\n\nf, ax = plt.subplots(figsize=(10, 10))\nsns.barplot(grouped.index, grouped.values)\nplt.ylabel('Number of orders', fontsize=13)\nplt.xlabel('Days of order in a week', fontsize=13)\nplt.show()",
      "execution_count": null,
      "outputs": [],
      "metadata": {}
    },
    {
      "cell_type": "markdown",
      "source": "People usually order at days 0 and 1 (anonimyzed days and probably the week end)",
      "metadata": {}
    },
    {
      "cell_type": "markdown",
      "source": "**Period of Reorders:**",
      "metadata": {}
    },
    {
      "cell_type": "code",
      "source": "grouped = orders.groupby(\"order_id\")[\"days_since_prior_order\"].aggregate(\"sum\").reset_index()\ngrouped = grouped.days_since_prior_order.value_counts()\n\nfrom matplotlib.ticker import FormatStrFormatter\nf, ax = plt.subplots(figsize=(15, 10))\nsns.barplot(grouped.index, grouped.values)\nax.xaxis.set_major_formatter(FormatStrFormatter('%.0f'))\nplt.ylabel('Number of orders', fontsize=13)\nplt.xlabel('Period of reorder', fontsize=13)\nplt.show()",
      "execution_count": null,
      "outputs": [],
      "metadata": {}
    },
    {
      "cell_type": "markdown",
      "source": "People usually reorder either after 1 week or after 1 month.",
      "metadata": {}
    },
    {
      "cell_type": "markdown",
      "source": "##Orders in the whole dataset",
      "metadata": {}
    },
    {
      "cell_type": "markdown",
      "source": "Number and ratio  of orders from the three datasets (prior, train, test).",
      "metadata": {}
    },
    {
      "cell_type": "code",
      "source": "grouped = orders.groupby(\"eval_set\")[\"order_id\"].aggregate({'Total_orders': 'count'}).reset_index()\ngrouped['Ratio'] = grouped[\"Total_orders\"].apply(lambda x: x /grouped['Total_orders'].sum())\ngrouped",
      "execution_count": null,
      "outputs": [],
      "metadata": {}
    },
    {
      "cell_type": "code",
      "source": "grouped  = grouped.groupby(['eval_set']).sum()['Total_orders'].sort_values(ascending=False)\n\nsns.set_style('whitegrid')\nf, ax = plt.subplots(figsize=(8, 8))\nsns.barplot(grouped.index, grouped.values, palette='coolwarm')\nplt.ylabel('Number of Orders', fontsize=13)\nplt.xlabel('datasets', fontsize=13)\nplt.show()",
      "execution_count": null,
      "outputs": [],
      "metadata": {}
    },
    {
      "cell_type": "markdown",
      "source": "##Customers in the whole dataset",
      "metadata": {}
    },
    {
      "cell_type": "markdown",
      "source": "Let's check the total number of unique customers in the three datasets (prior, train, test).",
      "metadata": {}
    },
    {
      "cell_type": "code",
      "source": "print(\"Number of unique customers in the whole dataset : \",len(set(orders.user_id)))",
      "execution_count": null,
      "outputs": [],
      "metadata": {}
    },
    {
      "cell_type": "code",
      "source": "grouped = orders.groupby(\"eval_set\")[\"user_id\"].apply(lambda x: len(x.unique()))\n\nplt.figure(figsize=(7,8))\nsns.barplot(grouped.index, grouped.values, palette='coolwarm')\nplt.ylabel('Number of users', fontsize=13)\nplt.xlabel('Eval set', fontsize=13)\nplt.title(\"Number of unique customers in each dataset\")\nplt.show()",
      "execution_count": null,
      "outputs": [],
      "metadata": {}
    },
    {
      "cell_type": "markdown",
      "source": "##Orders made by each customer",
      "metadata": {}
    },
    {
      "cell_type": "markdown",
      "source": "Let's check the number of orders made by each costumer in the whole dataset.",
      "metadata": {}
    },
    {
      "cell_type": "code",
      "source": "grouped = orders.groupby('user_id')['order_id'].apply(lambda x: len(x.unique())).reset_index()\ngrouped = grouped.groupby('order_id').aggregate(\"count\")\n\nsns.set_style(\"whitegrid\")\nf, ax = plt.subplots(figsize=(15, 12))\nsns.barplot(grouped.index, grouped.user_id)\nplt.ylabel('Numbers of Customers')\nplt.xlabel('Number of Orders per customer')\nplt.xticks(rotation='vertical')\nplt.show()",
      "execution_count": null,
      "outputs": [],
      "metadata": {}
    },
    {
      "cell_type": "markdown",
      "source": "We can observe that most customers made  4 orders.",
      "metadata": {}
    },
    {
      "cell_type": "markdown",
      "source": "Now let's explore the items datasets (products,  departments and aisles files.)",
      "metadata": {}
    },
    {
      "cell_type": "code",
      "source": "#display first five rows of our dataset.\nproducts.head(5)",
      "execution_count": null,
      "outputs": [],
      "metadata": {}
    },
    {
      "cell_type": "code",
      "source": "#display first five rows of our dataset.\ndepartments.head(5)",
      "execution_count": null,
      "outputs": [],
      "metadata": {}
    },
    {
      "cell_type": "code",
      "source": "#display first five rows of our dataset.\naisles.head(5)",
      "execution_count": null,
      "outputs": [],
      "metadata": {}
    },
    {
      "cell_type": "markdown",
      "source": "Now let's combine them in a single dataframe",
      "metadata": {}
    },
    {
      "cell_type": "code",
      "source": "items  = pd.merge(left =pd.merge(left=products, right=departments, how='left'), right=aisles, how='left')\nitems.head()",
      "execution_count": null,
      "outputs": [],
      "metadata": {}
    },
    {
      "cell_type": "markdown",
      "source": "##Most important Departments  (by number of products)",
      "metadata": {}
    },
    {
      "cell_type": "code",
      "source": "grouped = items.groupby(\"department\")[\"product_id\"].aggregate({'Total_products': 'count'}).reset_index()\ngrouped['Ratio'] = grouped[\"Total_products\"].apply(lambda x: x /grouped['Total_products'].sum())\ngrouped.sort_values(by='Total_products', ascending=False, inplace=True)\ngrouped",
      "execution_count": null,
      "outputs": [],
      "metadata": {}
    },
    {
      "cell_type": "code",
      "source": "grouped  = grouped.groupby(['department']).sum()['Total_products'].sort_values(ascending=False)\n\nsns.set_style(\"darkgrid\")\nf, ax = plt.subplots(figsize=(12, 15))\nplt.xticks(rotation='vertical')\nsns.barplot(grouped.index, grouped.values)\nplt.ylabel('Number of products', fontsize=13)\nplt.xlabel('Departments', fontsize=13)\nplt.show()",
      "execution_count": null,
      "outputs": [],
      "metadata": {}
    },
    {
      "cell_type": "markdown",
      "source": "##Most important Aisles in each Department (by number of Products)",
      "metadata": {}
    },
    {
      "cell_type": "code",
      "source": "grouped = items.groupby([\"department\", \"aisle\"])[\"product_id\"].aggregate({'Total_products': 'count'}).reset_index()\ngrouped.sort_values(by='Total_products', ascending=False, inplace=True)\nfig, axes = plt.subplots(7,3, figsize=(20,45), gridspec_kw =  dict(hspace=1.4))\nfor (aisle, group), ax in zip(grouped.groupby([\"department\"]), axes.flatten()):\n    g = sns.barplot(group.aisle, group.Total_products , ax=ax)\n    ax.set(xlabel = \"Aisles\", ylabel=\" Number of products\")\n    g.set_xticklabels(labels = group.aisle,rotation=90, fontsize=12)\n    ax.set_title(aisle, fontsize=15)",
      "execution_count": null,
      "outputs": [],
      "metadata": {}
    },
    {
      "cell_type": "markdown",
      "source": "##Most important Aisles over all Departments (by number of Products)",
      "metadata": {}
    },
    {
      "cell_type": "code",
      "source": "grouped = items.groupby(\"aisle\")[\"product_id\"].aggregate({'Total_products': 'count'}).reset_index()\ngrouped['Ratio'] = grouped[\"Total_products\"].apply(lambda x: x /grouped['Total_products'].sum())\ngrouped = grouped.sort_values(by='Total_products', ascending=False)[:20]\ngrouped",
      "execution_count": null,
      "outputs": [],
      "metadata": {}
    },
    {
      "cell_type": "code",
      "source": "grouped  = grouped.groupby(['aisle']).sum()['Total_products'].sort_values(ascending=False)\n\nf, ax = plt.subplots(figsize=(12, 15))\nplt.xticks(rotation='vertical')\nsns.barplot(grouped.index, grouped.values)\nplt.ylabel('Number of products', fontsize=13)\nplt.xlabel('Aisles', fontsize=13)\nplt.show()",
      "execution_count": null,
      "outputs": [],
      "metadata": {}
    },
    {
      "cell_type": "markdown",
      "source": "\n**What are customers' favorite Departments and Aisles ?**",
      "metadata": {}
    },
    {
      "cell_type": "code",
      "source": "\nusers_flow = orders[['user_id', 'order_id']].merge(order_products_train[['order_id', 'product_id']],\n                                          how='inner', left_on='order_id', right_on='order_id')\n\nusers_flow = users_flow.merge(items, how='inner', left_on='product_id',\n                                         right_on='product_id')",
      "execution_count": null,
      "outputs": [],
      "metadata": {}
    },
    {
      "cell_type": "markdown",
      "source": "##Best Selling Departments  (number of Orders)",
      "metadata": {}
    },
    {
      "cell_type": "code",
      "source": "grouped = users_flow.groupby(\"department\")[\"order_id\"].aggregate({'Total_orders': 'count'}).reset_index()\ngrouped['Ratio'] = grouped[\"Total_orders\"].apply(lambda x: x /grouped['Total_orders'].sum())\ngrouped.sort_values(by='Total_orders', ascending=False, inplace=True)\ngrouped",
      "execution_count": null,
      "outputs": [],
      "metadata": {}
    },
    {
      "cell_type": "code",
      "source": "grouped  = grouped.groupby(['department']).sum()['Total_orders'].sort_values(ascending=False)\n\nf, ax = plt.subplots(figsize=(12, 15))\nplt.xticks(rotation='vertical')\nsns.barplot(grouped.index, grouped.values)\nplt.ylabel('Number of Orders', fontsize=13)\nplt.xlabel('Departments', fontsize=13)\nplt.show()",
      "execution_count": null,
      "outputs": [],
      "metadata": {}
    },
    {
      "cell_type": "markdown",
      "source": "##Best Selling Aisles in each Department (number of Orders)",
      "metadata": {}
    },
    {
      "cell_type": "code",
      "source": "grouped = users_flow.groupby([\"department\", \"aisle\"])[\"order_id\"].aggregate({'Total_orders': 'count'}).reset_index()\ngrouped.sort_values(by='Total_orders', ascending=False, inplace=True)\nfig, axes = plt.subplots(7,3, figsize=(20,45), gridspec_kw =  dict(hspace=1.4))\nfor (aisle, group), ax in zip(grouped.groupby([\"department\"]), axes.flatten()):\n    g = sns.barplot(group.aisle, group.Total_orders , ax=ax)\n    ax.set(xlabel = \"Aisles\", ylabel=\" Number of Orders\")\n    g.set_xticklabels(labels = group.aisle,rotation=90, fontsize=12)\n    ax.set_title(aisle, fontsize=15)",
      "execution_count": null,
      "outputs": [],
      "metadata": {}
    },
    {
      "cell_type": "markdown",
      "source": "##Best Selling Aisles  over all Departments.",
      "metadata": {}
    },
    {
      "cell_type": "code",
      "source": "grouped = users_flow.groupby(\"aisle\")[\"order_id\"].aggregate({'Total_orders': 'count'}).reset_index()\ngrouped['Ratio'] = grouped[\"Total_orders\"].apply(lambda x: x /grouped['Total_orders'].sum())\ngrouped.sort_values(by='Total_orders', ascending=False, inplace=True )\ngrouped.head(10)",
      "execution_count": null,
      "outputs": [],
      "metadata": {}
    },
    {
      "cell_type": "code",
      "source": "grouped  = grouped.groupby(['aisle']).sum()['Total_orders'].sort_values(ascending=False)[:15]\n\nf, ax = plt.subplots(figsize=(12, 15))\nplt.xticks(rotation='vertical')\nsns.barplot(grouped.index, grouped.values)\nplt.ylabel('Number of Orders', fontsize=13)\nplt.xlabel('Aisles', fontsize=13)\nplt.show()",
      "execution_count": null,
      "outputs": [],
      "metadata": {}
    },
    {
      "cell_type": "code",
      "source": "",
      "execution_count": null,
      "outputs": [],
      "metadata": {}
    }
  ]
}